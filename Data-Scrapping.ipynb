{
 "cells": [
  {
   "cell_type": "markdown",
   "metadata": {},
   "source": [
    "### **Case**"
   ]
  },
  {
   "cell_type": "code",
   "execution_count": 78,
   "metadata": {},
   "outputs": [
    {
     "data": {
      "text/plain": [
       "'\\nKamu ingin menambah pendapatanmu dengan berjualan. Namun, kamu tidak punya cukup modal untuk produksi barang dan hanya cukup untuk promosi,\\nsehingga kamu memutuskan untuk menjalanan skema dropship di platform Tokopedia.\\n\\nKamu masih bingung akan berjualan apa dan teringat bahwa saat ini sedang viral seblak. Namun, kamu tidak yakin apakah benar bahwa masyarakat\\nmemiliki animo yang besar terhadap seblak.\\n\\nKarena kamu lulusan bootcamp Data Science Hacktiv8, dengan kemampuan dan pengetahuan kamu, kamu ingin menganalisis bagaimana penjualan produk\\nseblak di Tokopedia. Apakah orang suka, apakah banyak yang beli, dsb.\\n\\nTantangannya, kamu tidak punya data sama sekali selain yang terpampang pada website e-commerce Tokopedia. Oleh karena itu, perjalanan kamu \\ndimulai dari pengambilan data menggunakan Web Scraping!\\n'"
      ]
     },
     "execution_count": 78,
     "metadata": {},
     "output_type": "execute_result"
    }
   ],
   "source": [
    "'''\n",
    "Kamu ingin menambah pendapatanmu dengan berjualan. Namun, kamu tidak punya cukup modal untuk produksi barang dan hanya cukup untuk promosi,\n",
    "sehingga kamu memutuskan untuk menjalanan skema dropship di platform Tokopedia.\n",
    "\n",
    "Kamu masih bingung akan berjualan apa dan teringat bahwa saat ini sedang viral seblak. Namun, kamu tidak yakin apakah benar bahwa masyarakat\n",
    "memiliki animo yang besar terhadap seblak.\n",
    "\n",
    "Karena kamu lulusan bootcamp Data Science Hacktiv8, dengan kemampuan dan pengetahuan kamu, kamu ingin menganalisis bagaimana penjualan produk\n",
    "seblak di Tokopedia. Apakah orang suka, apakah banyak yang beli, dsb.\n",
    "\n",
    "Tantangannya, kamu tidak punya data sama sekali selain yang terpampang pada website e-commerce Tokopedia. Oleh karena itu, perjalanan kamu \n",
    "dimulai dari pengambilan data menggunakan Web Scraping!\n",
    "'''"
   ]
  },
  {
   "cell_type": "markdown",
   "metadata": {},
   "source": [
    "### **Import Library**"
   ]
  },
  {
   "cell_type": "code",
   "execution_count": 79,
   "metadata": {},
   "outputs": [],
   "source": [
    "from selenium import webdriver  # untuk buka atau akses browser halaman web\n",
    "from bs4 import BeautifulSoup  # untuk mem-parsing HTML\n",
    "import time  # untuk menambahkan delay antar request agar tidak terlalu cepat\n",
    "from scipy.stats import kurtosis, skew, ttest_ind, norm, spearmanr # Import library statistik yang dibutuhkan"
   ]
  },
  {
   "cell_type": "markdown",
   "metadata": {},
   "source": [
    "### **A.  Web Scraping**"
   ]
  },
  {
   "cell_type": "code",
   "execution_count": 80,
   "metadata": {},
   "outputs": [
    {
     "data": {
      "text/plain": [
       "'\\n# tempat menyimpan data yang akan di get\\nlistNames = []\\nlistPrices = []\\nlistSellers = []\\nlistCities = []\\nlistSales = []\\nlistRatings = []\\n\\n# buka browser dari selenium\\ndriver = webdriver.Chrome()\\n\\n# for loop untuk membaca 10 halaman \\nfor page in range(1, 11):  # loop untuk halaman 1 sampai 11 (11 nggak di baca karena di jadikan pagar)\\n    # get akses driver URL Tokopedia dengan page tertentu\\n    driver.get(f\"https://www.tokopedia.com/search?navsource=&page={page}&q=seblak&srp_component_id=02.01.00.00&srp_page_id=&srp_page_title=&st=\")\\n    \\n    # memberi jeda agar halaman dapat get data dengan perlahan\\n    time.sleep(2)\\n    \\n    # get halaman HTML\\n    html = driver.page_source\\n    \\n    # get halaman HTML parser dengan BeautifulSoup\\n    soup = BeautifulSoup(html, \"html.parser\")\\n    \\n    # get semua produk dalam class tertentu\\n    products = soup.find_all(\\'div\\', class_=\\'bYD8FcVCFyOBiVyITwDj1Q==\\') \\n    \\n    # for loop untuk mengambil data di setiap page\\n    for product in products:\\n        # get nama produk\\n        name = product.find(\\'div\\', class_=\\'_6+OpBPVGAgqnmycna+bWIw==\\')  \\n        listNames.append(name.get_text(strip=True) if name else None)\\n\\n        # get harga produk\\n        price = product.find(\\'div\\', class_=\\'_67d6E1xDKIzw+i2D2L0tjw==\\') \\n        listPrices.append(price.get_text(strip=True) if price else None)\\n\\n        # get nama seller\\n        seller_info = product.find(\\'div\\', class_=\\'T0rpy-LEwYNQifsgB-3SQw== pC8DMVkBZGW7-egObcWMFQ== flip\\')  \\n        listSellers.append(seller_info.get_text(strip=True) if seller_info else None)\\n\\n        # get nama kota sller\\n        city_info = product.find(\\'span\\', class_=\\'pC8DMVkBZGW7-egObcWMFQ== flip\\') \\n        listCities.append(city_info.get_text(strip=True) if city_info else None)\\n\\n        # get laku barang yang terjual\\n        sold_info = product.find(\\'span\\', class_=\\'se8WAnkjbVXZNA8mT+Veuw==\\')  \\n        if sold_info:\\n            sold_text = sold_info.get_text(strip=True)\\n            # Mengambil angka dari teks \\n            sold_number = \\'\\'.join(filter(str.isdigit, sold_text))\\n            listSales.append(int(sold_number) if sold_number else None)\\n        else:\\n            listSales.append(None)\\n\\n        # get rating produk\\n        rating_info = product.find(\\'span\\', class_=\\'_9jWGz3C-GX7Myq-32zWG9w==\\')  \\n        listRatings.append(rating_info.get_text(strip=True) if rating_info else None)\\n\\n# setelah scan dari semua halaman, dibuatlah dataframe\\ndf = pd.DataFrame({\\n    \\'Nama Produk\\': listNames,\\n    \\'Harga Produk\\': listPrices,\\n    \\'Penjual\\': listSellers,\\n    \\'Kota Toko\\': listCities,\\n    \\'Banyaknya Terjual\\': listSales,\\n    \\'Rating Produk\\': listRatings\\n})\\n\\n# print data paling atas untuk pengecekan\\nprint(df.head())\\n\\n# save data ke file CSV jika diperlukan\\ndf.to_csv(\\'seblak_tokopedia.csv\\', index=False)\\n\\n# close browser setelah selesai\\ndriver.quit()\\n\\n'"
      ]
     },
     "execution_count": 80,
     "metadata": {},
     "output_type": "execute_result"
    }
   ],
   "source": [
    "'''\n",
    "# tempat menyimpan data yang akan di get\n",
    "listNames = []\n",
    "listPrices = []\n",
    "listSellers = []\n",
    "listCities = []\n",
    "listSales = []\n",
    "listRatings = []\n",
    "\n",
    "# buka browser dari selenium\n",
    "driver = webdriver.Chrome()\n",
    "\n",
    "# for loop untuk membaca 10 halaman \n",
    "for page in range(1, 11):  # loop untuk halaman 1 sampai 11 (11 nggak di baca karena di jadikan pagar)\n",
    "    # get akses driver URL Tokopedia dengan page tertentu\n",
    "    driver.get(f\"https://www.tokopedia.com/search?navsource=&page={page}&q=seblak&srp_component_id=02.01.00.00&srp_page_id=&srp_page_title=&st=\")\n",
    "    \n",
    "    # memberi jeda agar halaman dapat get data dengan perlahan\n",
    "    time.sleep(2)\n",
    "    \n",
    "    # get halaman HTML\n",
    "    html = driver.page_source\n",
    "    \n",
    "    # get halaman HTML parser dengan BeautifulSoup\n",
    "    soup = BeautifulSoup(html, \"html.parser\")\n",
    "    \n",
    "    # get semua produk dalam class tertentu\n",
    "    products = soup.find_all('div', class_='bYD8FcVCFyOBiVyITwDj1Q==') \n",
    "    \n",
    "    # for loop untuk mengambil data di setiap page\n",
    "    for product in products:\n",
    "        # get nama produk\n",
    "        name = product.find('div', class_='_6+OpBPVGAgqnmycna+bWIw==')  \n",
    "        listNames.append(name.get_text(strip=True) if name else None)\n",
    "\n",
    "        # get harga produk\n",
    "        price = product.find('div', class_='_67d6E1xDKIzw+i2D2L0tjw==') \n",
    "        listPrices.append(price.get_text(strip=True) if price else None)\n",
    "\n",
    "        # get nama seller\n",
    "        seller_info = product.find('div', class_='T0rpy-LEwYNQifsgB-3SQw== pC8DMVkBZGW7-egObcWMFQ== flip')  \n",
    "        listSellers.append(seller_info.get_text(strip=True) if seller_info else None)\n",
    "\n",
    "        # get nama kota sller\n",
    "        city_info = product.find('span', class_='pC8DMVkBZGW7-egObcWMFQ== flip') \n",
    "        listCities.append(city_info.get_text(strip=True) if city_info else None)\n",
    "\n",
    "        # get laku barang yang terjual\n",
    "        sold_info = product.find('span', class_='se8WAnkjbVXZNA8mT+Veuw==')  \n",
    "        if sold_info:\n",
    "            sold_text = sold_info.get_text(strip=True)\n",
    "            # Mengambil angka dari teks \n",
    "            sold_number = ''.join(filter(str.isdigit, sold_text))\n",
    "            listSales.append(int(sold_number) if sold_number else None)\n",
    "        else:\n",
    "            listSales.append(None)\n",
    "\n",
    "        # get rating produk\n",
    "        rating_info = product.find('span', class_='_9jWGz3C-GX7Myq-32zWG9w==')  \n",
    "        listRatings.append(rating_info.get_text(strip=True) if rating_info else None)\n",
    "\n",
    "# setelah scan dari semua halaman, dibuatlah dataframe\n",
    "df = pd.DataFrame({\n",
    "    'Nama Produk': listNames,\n",
    "    'Harga Produk': listPrices,\n",
    "    'Penjual': listSellers,\n",
    "    'Kota Toko': listCities,\n",
    "    'Banyaknya Terjual': listSales,\n",
    "    'Rating Produk': listRatings\n",
    "})\n",
    "\n",
    "# print data paling atas untuk pengecekan\n",
    "print(df.head())\n",
    "\n",
    "# save data ke file CSV jika diperlukan\n",
    "df.to_csv('seblak_tokopedia.csv', index=False)\n",
    "\n",
    "# close browser setelah selesai\n",
    "driver.quit()\n",
    "\n",
    "'''"
   ]
  },
  {
   "cell_type": "markdown",
   "metadata": {},
   "source": [
    "### **B. Data Preparation**"
   ]
  },
  {
   "cell_type": "markdown",
   "metadata": {},
   "source": [
    " #### 1. Import Library and get Data"
   ]
  },
  {
   "cell_type": "code",
   "execution_count": 81,
   "metadata": {},
   "outputs": [],
   "source": [
    "import pandas as pd\n",
    "import numpy as np  # untuk manipulasi data numerik\n",
    "\n",
    "# get data dari file CSV\n",
    "data = pd.read_csv('seblak_tokopedia.csv')\n"
   ]
  },
  {
   "cell_type": "markdown",
   "metadata": {},
   "source": [
    "#### 2. Analisa Awal"
   ]
  },
  {
   "cell_type": "code",
   "execution_count": 82,
   "metadata": {},
   "outputs": [
    {
     "data": {
      "text/html": [
       "<div>\n",
       "<style scoped>\n",
       "    .dataframe tbody tr th:only-of-type {\n",
       "        vertical-align: middle;\n",
       "    }\n",
       "\n",
       "    .dataframe tbody tr th {\n",
       "        vertical-align: top;\n",
       "    }\n",
       "\n",
       "    .dataframe thead th {\n",
       "        text-align: right;\n",
       "    }\n",
       "</style>\n",
       "<table border=\"1\" class=\"dataframe\">\n",
       "  <thead>\n",
       "    <tr style=\"text-align: right;\">\n",
       "      <th></th>\n",
       "      <th>Nama Produk</th>\n",
       "      <th>Harga Produk</th>\n",
       "      <th>Penjual</th>\n",
       "      <th>Kota Toko</th>\n",
       "      <th>Banyaknya Terjual</th>\n",
       "      <th>Rating Produk</th>\n",
       "    </tr>\n",
       "  </thead>\n",
       "  <tbody>\n",
       "    <tr>\n",
       "      <th>0</th>\n",
       "      <td>Kylafood Seblak Mie Baso</td>\n",
       "      <td>Rp23.375</td>\n",
       "      <td>NaN</td>\n",
       "      <td>NaN</td>\n",
       "      <td>4.0</td>\n",
       "      <td>4.9</td>\n",
       "    </tr>\n",
       "    <tr>\n",
       "      <th>1</th>\n",
       "      <td>Kylafood Paket (3 Seblak Original 2 Batagor kuah)</td>\n",
       "      <td>Rp91.125</td>\n",
       "      <td>NaN</td>\n",
       "      <td>NaN</td>\n",
       "      <td>3.0</td>\n",
       "      <td>4.9</td>\n",
       "    </tr>\n",
       "    <tr>\n",
       "      <th>2</th>\n",
       "      <td>Paket Happy (Seblak Original, Batagor Kuah, Ba...</td>\n",
       "      <td>Rp55.875</td>\n",
       "      <td>NaN</td>\n",
       "      <td>NaN</td>\n",
       "      <td>500.0</td>\n",
       "      <td>4.9</td>\n",
       "    </tr>\n",
       "    <tr>\n",
       "      <th>3</th>\n",
       "      <td>Seblak Instan Premium Bangsatria</td>\n",
       "      <td>Rp21.000</td>\n",
       "      <td>Foodstocks</td>\n",
       "      <td>Jakarta Selatan</td>\n",
       "      <td>50.0</td>\n",
       "      <td>5.0</td>\n",
       "    </tr>\n",
       "    <tr>\n",
       "      <th>4</th>\n",
       "      <td>Kerupuk Bawang Warna Putih Dan Orange 500Gram ...</td>\n",
       "      <td>Rp13.250</td>\n",
       "      <td>Distributor-Jaya</td>\n",
       "      <td>Tangerang</td>\n",
       "      <td>100.0</td>\n",
       "      <td>4.8</td>\n",
       "    </tr>\n",
       "  </tbody>\n",
       "</table>\n",
       "</div>"
      ],
      "text/plain": [
       "                                         Nama Produk Harga Produk  \\\n",
       "0                           Kylafood Seblak Mie Baso     Rp23.375   \n",
       "1  Kylafood Paket (3 Seblak Original 2 Batagor kuah)     Rp91.125   \n",
       "2  Paket Happy (Seblak Original, Batagor Kuah, Ba...     Rp55.875   \n",
       "3                   Seblak Instan Premium Bangsatria     Rp21.000   \n",
       "4  Kerupuk Bawang Warna Putih Dan Orange 500Gram ...     Rp13.250   \n",
       "\n",
       "            Penjual        Kota Toko  Banyaknya Terjual  Rating Produk  \n",
       "0               NaN              NaN                4.0            4.9  \n",
       "1               NaN              NaN                3.0            4.9  \n",
       "2               NaN              NaN              500.0            4.9  \n",
       "3        Foodstocks  Jakarta Selatan               50.0            5.0  \n",
       "4  Distributor-Jaya        Tangerang              100.0            4.8  "
      ]
     },
     "execution_count": 82,
     "metadata": {},
     "output_type": "execute_result"
    }
   ],
   "source": [
    "# print data paling atas untuk pengecekan\n",
    "data.head()"
   ]
  },
  {
   "cell_type": "code",
   "execution_count": 83,
   "metadata": {},
   "outputs": [
    {
     "name": "stdout",
     "output_type": "stream",
     "text": [
      "<class 'pandas.core.frame.DataFrame'>\n",
      "RangeIndex: 126 entries, 0 to 125\n",
      "Data columns (total 6 columns):\n",
      " #   Column             Non-Null Count  Dtype  \n",
      "---  ------             --------------  -----  \n",
      " 0   Nama Produk        126 non-null    object \n",
      " 1   Harga Produk       126 non-null    object \n",
      " 2   Penjual            100 non-null    object \n",
      " 3   Kota Toko          100 non-null    object \n",
      " 4   Banyaknya Terjual  114 non-null    float64\n",
      " 5   Rating Produk      101 non-null    float64\n",
      "dtypes: float64(2), object(4)\n",
      "memory usage: 6.0+ KB\n"
     ]
    }
   ],
   "source": [
    "# print data paling atas untuk pengecekan\n",
    "data.info()"
   ]
  },
  {
   "cell_type": "code",
   "execution_count": 84,
   "metadata": {},
   "outputs": [
    {
     "data": {
      "text/html": [
       "<div>\n",
       "<style scoped>\n",
       "    .dataframe tbody tr th:only-of-type {\n",
       "        vertical-align: middle;\n",
       "    }\n",
       "\n",
       "    .dataframe tbody tr th {\n",
       "        vertical-align: top;\n",
       "    }\n",
       "\n",
       "    .dataframe thead th {\n",
       "        text-align: right;\n",
       "    }\n",
       "</style>\n",
       "<table border=\"1\" class=\"dataframe\">\n",
       "  <thead>\n",
       "    <tr style=\"text-align: right;\">\n",
       "      <th></th>\n",
       "      <th>Nama Produk</th>\n",
       "      <th>Harga Produk</th>\n",
       "      <th>Penjual</th>\n",
       "      <th>Kota Toko</th>\n",
       "      <th>Banyaknya Terjual</th>\n",
       "      <th>Rating Produk</th>\n",
       "    </tr>\n",
       "  </thead>\n",
       "  <tbody>\n",
       "    <tr>\n",
       "      <th>count</th>\n",
       "      <td>126</td>\n",
       "      <td>126</td>\n",
       "      <td>100</td>\n",
       "      <td>100</td>\n",
       "      <td>114.000000</td>\n",
       "      <td>101.000000</td>\n",
       "    </tr>\n",
       "    <tr>\n",
       "      <th>unique</th>\n",
       "      <td>113</td>\n",
       "      <td>83</td>\n",
       "      <td>64</td>\n",
       "      <td>28</td>\n",
       "      <td>NaN</td>\n",
       "      <td>NaN</td>\n",
       "    </tr>\n",
       "    <tr>\n",
       "      <th>top</th>\n",
       "      <td>Seblak Instan Premium Bangsatria</td>\n",
       "      <td>Rp14.000</td>\n",
       "      <td>kylafood</td>\n",
       "      <td>Bandung</td>\n",
       "      <td>NaN</td>\n",
       "      <td>NaN</td>\n",
       "    </tr>\n",
       "    <tr>\n",
       "      <th>freq</th>\n",
       "      <td>3</td>\n",
       "      <td>6</td>\n",
       "      <td>8</td>\n",
       "      <td>14</td>\n",
       "      <td>NaN</td>\n",
       "      <td>NaN</td>\n",
       "    </tr>\n",
       "    <tr>\n",
       "      <th>mean</th>\n",
       "      <td>NaN</td>\n",
       "      <td>NaN</td>\n",
       "      <td>NaN</td>\n",
       "      <td>NaN</td>\n",
       "      <td>97.684211</td>\n",
       "      <td>4.890099</td>\n",
       "    </tr>\n",
       "    <tr>\n",
       "      <th>std</th>\n",
       "      <td>NaN</td>\n",
       "      <td>NaN</td>\n",
       "      <td>NaN</td>\n",
       "      <td>NaN</td>\n",
       "      <td>149.446668</td>\n",
       "      <td>0.127675</td>\n",
       "    </tr>\n",
       "    <tr>\n",
       "      <th>min</th>\n",
       "      <td>NaN</td>\n",
       "      <td>NaN</td>\n",
       "      <td>NaN</td>\n",
       "      <td>NaN</td>\n",
       "      <td>1.000000</td>\n",
       "      <td>4.200000</td>\n",
       "    </tr>\n",
       "    <tr>\n",
       "      <th>25%</th>\n",
       "      <td>NaN</td>\n",
       "      <td>NaN</td>\n",
       "      <td>NaN</td>\n",
       "      <td>NaN</td>\n",
       "      <td>6.000000</td>\n",
       "      <td>4.800000</td>\n",
       "    </tr>\n",
       "    <tr>\n",
       "      <th>50%</th>\n",
       "      <td>NaN</td>\n",
       "      <td>NaN</td>\n",
       "      <td>NaN</td>\n",
       "      <td>NaN</td>\n",
       "      <td>50.000000</td>\n",
       "      <td>4.900000</td>\n",
       "    </tr>\n",
       "    <tr>\n",
       "      <th>75%</th>\n",
       "      <td>NaN</td>\n",
       "      <td>NaN</td>\n",
       "      <td>NaN</td>\n",
       "      <td>NaN</td>\n",
       "      <td>100.000000</td>\n",
       "      <td>5.000000</td>\n",
       "    </tr>\n",
       "    <tr>\n",
       "      <th>max</th>\n",
       "      <td>NaN</td>\n",
       "      <td>NaN</td>\n",
       "      <td>NaN</td>\n",
       "      <td>NaN</td>\n",
       "      <td>750.000000</td>\n",
       "      <td>5.000000</td>\n",
       "    </tr>\n",
       "  </tbody>\n",
       "</table>\n",
       "</div>"
      ],
      "text/plain": [
       "                             Nama Produk Harga Produk   Penjual Kota Toko  \\\n",
       "count                                126          126       100       100   \n",
       "unique                               113           83        64        28   \n",
       "top     Seblak Instan Premium Bangsatria     Rp14.000  kylafood   Bandung   \n",
       "freq                                   3            6         8        14   \n",
       "mean                                 NaN          NaN       NaN       NaN   \n",
       "std                                  NaN          NaN       NaN       NaN   \n",
       "min                                  NaN          NaN       NaN       NaN   \n",
       "25%                                  NaN          NaN       NaN       NaN   \n",
       "50%                                  NaN          NaN       NaN       NaN   \n",
       "75%                                  NaN          NaN       NaN       NaN   \n",
       "max                                  NaN          NaN       NaN       NaN   \n",
       "\n",
       "        Banyaknya Terjual  Rating Produk  \n",
       "count          114.000000     101.000000  \n",
       "unique                NaN            NaN  \n",
       "top                   NaN            NaN  \n",
       "freq                  NaN            NaN  \n",
       "mean            97.684211       4.890099  \n",
       "std            149.446668       0.127675  \n",
       "min              1.000000       4.200000  \n",
       "25%              6.000000       4.800000  \n",
       "50%             50.000000       4.900000  \n",
       "75%            100.000000       5.000000  \n",
       "max            750.000000       5.000000  "
      ]
     },
     "execution_count": 84,
     "metadata": {},
     "output_type": "execute_result"
    }
   ],
   "source": [
    "#\n",
    "data.describe(include='all')"
   ]
  },
  {
   "cell_type": "markdown",
   "metadata": {},
   "source": [
    "**Detail dataset:**\n",
    " - Nama Produk: nama produk yang dijual\n",
    " - Harga Produk: harga produk yang dijual masih dalam format teks\n",
    " - Penjual: Nama toko/penjualdan ada beberapa baris memiliki nilai NaN.\n",
    " - Kota Toko: Lokasi toko, beberapa baris juga memiliki nilai NaN.\n",
    " - Banyaknya Terjual: Jumlah produk terjual (ada format campuran seperti angka dan teks).\n",
    " - Rating Produk: Penilaian rata-rata produk (angka desimal)."
   ]
  },
  {
   "cell_type": "code",
   "execution_count": 85,
   "metadata": {},
   "outputs": [
    {
     "data": {
      "text/plain": [
       "Nama Produk           0\n",
       "Harga Produk          0\n",
       "Penjual              26\n",
       "Kota Toko            26\n",
       "Banyaknya Terjual    12\n",
       "Rating Produk        25\n",
       "dtype: int64"
      ]
     },
     "execution_count": 85,
     "metadata": {},
     "output_type": "execute_result"
    }
   ],
   "source": [
    "# melakukan pengecekan jumlah miising value \n",
    "missing_values = data.isnull().sum()\n",
    "\n",
    "# nampilin data yang missing\n",
    "missing_values"
   ]
  },
  {
   "cell_type": "code",
   "execution_count": 86,
   "metadata": {},
   "outputs": [],
   "source": [
    "# Menghapus baris data yang memiliki missing value\n",
    "data.dropna(subset=['Kota Toko', 'Penjual', 'Banyaknya Terjual'], inplace=True)"
   ]
  },
  {
   "cell_type": "code",
   "execution_count": 87,
   "metadata": {},
   "outputs": [],
   "source": [
    "# Menghapus duplikat berdasarkan semua kolom\n",
    "data.drop_duplicates(inplace=True)"
   ]
  },
  {
   "cell_type": "markdown",
   "metadata": {},
   "source": [
    "**Hasil Analisi dari Value dataset:**\n",
    " - ada beberapa miising value di kolom Toko/Penjual (perlu dihapus agar sesuai dengan analisis)\n",
    " - ada juga missing value di kolom 'Banyaknya Terjual' dan 'Rating Produk' (perlu dihapus agar sesuai dengan analisis)\n",
    " - ada juga beberapa data kolom yang sama (perlu dihapus agar sesuai dengan analisis)"
   ]
  },
  {
   "cell_type": "markdown",
   "metadata": {},
   "source": [
    "#### 3. Data Cleaning"
   ]
  },
  {
   "cell_type": "code",
   "execution_count": 88,
   "metadata": {},
   "outputs": [],
   "source": [
    "# ubah data \"Harga Produk\" ke angka\n",
    "data['Harga Produk'] = data['Harga Produk'].str.replace('Rp', '', regex=False).str.replace('.', '', regex=False).astype(int)\n",
    "\n",
    "# ubah \"Banyaknya Terjual\" ke angka\n",
    "def parse_sold(text):\n",
    "    if isinstance(text, str):\n",
    "        text = text.replace('Terjual ', '').replace('+', '').strip()\n",
    "        if 'rb' in text:\n",
    "            return int(float(text.replace(' rb', '').replace('rb', '')) * 1000)\n",
    "        return int(text)\n",
    "    return text\n",
    "\n",
    "data['Banyaknya Terjual'] = data['Banyaknya Terjual'].apply(parse_sold)\n",
    "\n",
    "# simpan hasil data yang telah dibersihkan ke file CSV baru\n",
    "data.to_csv('seblak_tokopedia_clean.csv', index=False)\n"
   ]
  },
  {
   "cell_type": "code",
   "execution_count": 89,
   "metadata": {},
   "outputs": [
    {
     "data": {
      "text/plain": [
       "'\\nData Cleaning dilakukan agar mendapat data yang bersih yang besisi informasi yang lengkap, sehingga dapat mempermudah untuk analisi lebih lanjut seperti (segmentasi harga, tren penjualan, atau analisis korelasi): \\n - membersihkan semua baris yang memiliki nilai kosong\\n - mengubah data pada kolom \"Harga Produk\" menjadi numerik dan menghilangkan beberapa simbol dan str yang ada ( agar bisa di olah untuk analisis avg median, dan distribusi harga)\\n - mengubah data pada kolom \"Harga Produk\" menjadi numerik seperti 1 rb berhasil diubah menjadi 1000 atau 750+ berhasil diubah menjadi 750 (jadi dapat di analisis barang paling laku)\\n'"
      ]
     },
     "execution_count": 89,
     "metadata": {},
     "output_type": "execute_result"
    }
   ],
   "source": [
    "'''\n",
    "Data Cleaning dilakukan agar mendapat data yang bersih yang besisi informasi yang lengkap, sehingga dapat mempermudah untuk analisi lebih lanjut seperti (segmentasi harga, tren penjualan, atau analisis korelasi): \n",
    " - membersihkan semua baris yang memiliki nilai kosong\n",
    " - mengubah data pada kolom \"Harga Produk\" menjadi numerik dan menghilangkan beberapa simbol dan str yang ada ( agar bisa di olah untuk analisis avg median, dan distribusi harga)\n",
    " - mengubah data pada kolom \"Harga Produk\" menjadi numerik seperti 1 rb berhasil diubah menjadi 1000 atau 750+ berhasil diubah menjadi 750 (jadi dapat di analisis barang paling laku)\n",
    "'''"
   ]
  },
  {
   "cell_type": "markdown",
   "metadata": {},
   "source": [
    "### **C. Problem Statement**"
   ]
  },
  {
   "cell_type": "markdown",
   "metadata": {},
   "source": [
    "#### CORETAN\n",
    "1. Jika aku penjual seblak, kira kira product apa yang paling laris\n",
    "2. varisasi jumlah product seblak apa yang di minati\n",
    "3. Harga kira kira berapa yang bisa bersaing\n",
    "4. korelasi hubungan antara jumlah barang terjual dengan rating"
   ]
  },
  {
   "cell_type": "code",
   "execution_count": 90,
   "metadata": {},
   "outputs": [
    {
     "data": {
      "text/plain": [
       "'\\nProblem Statement:\\nBagaimana menentukan produk seblak yang paling diminati, harga yang kompetitif, dan hubungan antara popularitas produk dengan rating di Tokopedia untuk memaksimalkan \\npotensi penjualan?\\n'"
      ]
     },
     "execution_count": 90,
     "metadata": {},
     "output_type": "execute_result"
    }
   ],
   "source": [
    "'''\n",
    "Problem Statement:\n",
    "Bagaimana menentukan produk seblak yang paling diminati, harga yang kompetitif, dan hubungan antara popularitas produk dengan rating di Tokopedia untuk memaksimalkan \n",
    "potensi penjualan?\n",
    "'''"
   ]
  },
  {
   "cell_type": "code",
   "execution_count": 91,
   "metadata": {},
   "outputs": [
    {
     "data": {
      "text/plain": [
       "'\\nSpecific (Spesifik):\\n- Menentukan produk seblak yang paling laris berdasarkan jumlah produk terjual.\\n- Menganalisis variasi harga dan rating produk untuk menentukan harga yang bersaing.\\n- Mengetahui apakah produk dengan rating tinggi cenderung lebih laris.\\n\\nMeasurable (Terukur):\\n- Jumlah produk terjual (untuk menentukan produk yang paling laris).\\n- Rata-rata harga produk dan rentang harga (untuk menentukan harga yang kompetitif).\\n- Korelasi antara rating dan jumlah produk terjual (untuk mengetahui apakah rating berhubungan dengan penjualan).\\n- Pendapatan potensial yang bisa didapatkan dari penjualan berdasarkan data yang ada.\\n\\nAchievable (Dapat Dicapai):\\n- Dengan melakukan analisis data yang telah saya ambil dari Tokopedia menggunakan Python dan Statistik saya bisa memproses data dan mengelola data yang dibutuhkan \\nuntuk menentukan strategi penjualan. \\n\\nRelevant (Relevan):\\n- Menjual produk yang paling diminati konsumen dan menetapkan harga yang kompetitif.\\n- Memahami faktor-faktor yang mempengaruhi penjualan produk (seperti rating).\\n- Mengetahui potensi pendapatan yang bisa dihasilkan berdasarkan produk seblak yang dijual.\\n- Jika saya dapat menentukan produk yang paling laris dan harga yang bersaing, saya akan bisa memaksimalkan pendapatan dari penjualan seblak.\\n- Memahami hubungan antara rating dan penjualan akan membantu meningkatkan kualitas produk yang dijual.\\n- Menghitung potensi pendapatan dengan confidence interval akan memberikan gambaran yang lebih jelas tentang penghasilan yang bisa didapat.\\n\\nTime-Bound (Terikat Waktu):\\n- Dalam waktu 7 hari, saya akan menyelesaikan analisis dan mendapatkan wawasan terkait produk seblak yang paling laris, harga yang kompetitif,\\ndan hubungan rating dengan jumlah produk terjual.\\n'"
      ]
     },
     "execution_count": 91,
     "metadata": {},
     "output_type": "execute_result"
    }
   ],
   "source": [
    "'''\n",
    "Specific (Spesifik):\n",
    "- Menentukan produk seblak yang paling laris berdasarkan jumlah produk terjual.\n",
    "- Menganalisis variasi harga dan rating produk untuk menentukan harga yang bersaing.\n",
    "- Mengetahui apakah produk dengan rating tinggi cenderung lebih laris.\n",
    "\n",
    "Measurable (Terukur):\n",
    "- Jumlah produk terjual (untuk menentukan produk yang paling laris).\n",
    "- Rata-rata harga produk dan rentang harga (untuk menentukan harga yang kompetitif).\n",
    "- Korelasi antara rating dan jumlah produk terjual (untuk mengetahui apakah rating berhubungan dengan penjualan).\n",
    "- Pendapatan potensial yang bisa didapatkan dari penjualan berdasarkan data yang ada.\n",
    "\n",
    "Achievable (Dapat Dicapai):\n",
    "- Dengan melakukan analisis data yang telah saya ambil dari Tokopedia menggunakan Python dan Statistik saya bisa memproses data dan mengelola data yang dibutuhkan \n",
    "untuk menentukan strategi penjualan. \n",
    "\n",
    "Relevant (Relevan):\n",
    "- Menjual produk yang paling diminati konsumen dan menetapkan harga yang kompetitif.\n",
    "- Memahami faktor-faktor yang mempengaruhi penjualan produk (seperti rating).\n",
    "- Mengetahui potensi pendapatan yang bisa dihasilkan berdasarkan produk seblak yang dijual.\n",
    "- Jika saya dapat menentukan produk yang paling laris dan harga yang bersaing, saya akan bisa memaksimalkan pendapatan dari penjualan seblak.\n",
    "- Memahami hubungan antara rating dan penjualan akan membantu meningkatkan kualitas produk yang dijual.\n",
    "- Menghitung potensi pendapatan dengan confidence interval akan memberikan gambaran yang lebih jelas tentang penghasilan yang bisa didapat.\n",
    "\n",
    "Time-Bound (Terikat Waktu):\n",
    "- Dalam waktu 7 hari, saya akan menyelesaikan analisis dan mendapatkan wawasan terkait produk seblak yang paling laris, harga yang kompetitif,\n",
    "dan hubungan rating dengan jumlah produk terjual.\n",
    "'''"
   ]
  },
  {
   "cell_type": "markdown",
   "metadata": {},
   "source": [
    "### **D. Analysis**"
   ]
  },
  {
   "cell_type": "markdown",
   "metadata": {},
   "source": [
    "**Produk Seblak Paling Laris**\n",
    "\n",
    "Produk dengan jumlah terjual terbanyak akan memberikan gambaran tentang preferensi konsumen, sehingga bisa memilih produk yang paling diminati untuk dijual."
   ]
  },
  {
   "cell_type": "code",
   "execution_count": 92,
   "metadata": {},
   "outputs": [
    {
     "name": "stdout",
     "output_type": "stream",
     "text": [
      "                                          Nama Produk  Harga Produk  \\\n",
      "30                 SEBLAK INSTAN MANG MUSS - LEVEL 10         14999   \n",
      "69                               bakso cuanki bandung         30450   \n",
      "56  Snack Mie Goreng Medan / Kerupuk Mie Goreng Medan         14500   \n",
      "97                  KERUPUK SEBLAK MENTAH ANEKA WARNA         13500   \n",
      "5                                 Kylafood Seblak Cup         14000   \n",
      "6                               Seblak Sultan instant         14000   \n",
      "31  Kylafood Mix Fav Selebgram Seblak Original & B...         50000   \n",
      "18  Kerupuk Seblak Rafael Pedas / Seblak Mawar Ped...         16000   \n",
      "20  Paket Isi 6 Cuanki Instan Lakoca | Batagor Ins...         93840   \n",
      "4   Kerupuk Bawang Warna Putih Dan Orange 500Gram ...         13250   \n",
      "\n",
      "                        Penjual        Kota Toko  Banyaknya Terjual  \\\n",
      "30             Seblak Mang Muss      Tasikmalaya              750.0   \n",
      "69             UMMU GENDIS FOOD            Depok              750.0   \n",
      "56  Pisang Goreng Madu Bu Nanik    Jakarta Barat              500.0   \n",
      "97               jajanangarut19  Jakarta Selatan              500.0   \n",
      "5              Kylafood Jakarta  Jakarta Selatan              250.0   \n",
      "6              Sultan Meat Shop            Medan              250.0   \n",
      "31                     kylafood          Bandung              250.0   \n",
      "18              DUO BOCIL SNACK            Depok              250.0   \n",
      "20         Lakoca Official Shop           Cimahi              100.0   \n",
      "4              Distributor-Jaya        Tangerang              100.0   \n",
      "\n",
      "    Rating Produk  \n",
      "30            4.9  \n",
      "69            4.9  \n",
      "56            4.8  \n",
      "97            4.8  \n",
      "5             4.9  \n",
      "6             4.8  \n",
      "31            4.8  \n",
      "18            4.9  \n",
      "20            4.8  \n",
      "4             4.8  \n"
     ]
    }
   ],
   "source": [
    "# Produk paling laris berdasarkan jumlah terjual\n",
    "top_products = data.sort_values(by='Banyaknya Terjual', ascending=False).head(10)\n",
    "print(top_products)"
   ]
  },
  {
   "cell_type": "markdown",
   "metadata": {},
   "source": [
    "**Variasi Produk yang Diminati**\n",
    "\n",
    "Mengetahui variasi produk yang diminati konsumen "
   ]
  },
  {
   "cell_type": "code",
   "execution_count": 93,
   "metadata": {},
   "outputs": [
    {
     "name": "stdout",
     "output_type": "stream",
     "text": [
      "count     79.000000\n",
      "mean      78.481013\n",
      "std      142.554700\n",
      "min        1.000000\n",
      "25%        6.000000\n",
      "50%       30.000000\n",
      "75%       90.000000\n",
      "max      750.000000\n",
      "Name: Banyaknya Terjual, dtype: float64\n"
     ]
    }
   ],
   "source": [
    "# Distribusi jumlah terjual\n",
    "print(data['Banyaknya Terjual'].describe())"
   ]
  },
  {
   "cell_type": "markdown",
   "metadata": {},
   "source": [
    "**Harga yang Kompetitif**\n",
    "\n",
    "Mengetahui rentang harga yang optimal untuk membantu menentukan harga yang bersaing di pasar online. melihat harga dalam rentang interquartile (antara Q1 dan Q3)"
   ]
  },
  {
   "cell_type": "code",
   "execution_count": 94,
   "metadata": {},
   "outputs": [
    {
     "name": "stdout",
     "output_type": "stream",
     "text": [
      "count        79.000000\n",
      "mean      25706.835443\n",
      "std       23762.014532\n",
      "min        2700.000000\n",
      "25%       10582.500000\n",
      "50%       18000.000000\n",
      "75%       33499.500000\n",
      "max      128000.000000\n",
      "Name: Harga Produk, dtype: float64\n"
     ]
    }
   ],
   "source": [
    "# Statistik deskriptif untuk harga\n",
    "print(data['Harga Produk'].describe())"
   ]
  },
  {
   "cell_type": "markdown",
   "metadata": {},
   "source": [
    "#### 1. Distribusi Data dan Statistik Deskriptif"
   ]
  },
  {
   "cell_type": "code",
   "execution_count": 95,
   "metadata": {},
   "outputs": [
    {
     "name": "stdout",
     "output_type": "stream",
     "text": [
      "\n",
      "Statistik untuk Harga Produk:\n",
      "Rata-rata: 25706.835443037973\n",
      "Median: 18000.0\n",
      "Skewness: 1.9532063218096556\n",
      "Kurtosis: 4.232151581257438\n",
      "\n",
      "Statistik untuk Banyaknya Terjual:\n",
      "Rata-rata: 78.48101265822785\n",
      "Median: 30.0\n",
      "Skewness: 3.3913898800904096\n",
      "Kurtosis: 11.913428626402377\n",
      "\n",
      "Statistik untuk Rating Produk:\n",
      "Rata-rata: 4.884722222222222\n",
      "Median: 4.9\n",
      "Skewness: nan\n",
      "Kurtosis: nan\n"
     ]
    }
   ],
   "source": [
    "# Hitung rata-rata, median, skewness, dan kurtosis\n",
    "columns = ['Harga Produk', 'Banyaknya Terjual', 'Rating Produk']\n",
    "for col in columns:\n",
    "    print(f\"\\nStatistik untuk {col}:\")\n",
    "    print(f\"Rata-rata: {data[col].mean()}\")\n",
    "    print(f\"Median: {data[col].median()}\")\n",
    "    print(f\"Skewness: {skew(data[col])}\")\n",
    "    print(f\"Kurtosis: {kurtosis(data[col])}\")"
   ]
  },
  {
   "cell_type": "code",
   "execution_count": 96,
   "metadata": {},
   "outputs": [
    {
     "data": {
      "text/plain": [
       "'\\n- Harga Produk: Data harga menunjukkan distribusi yang sedikit miring (skewed), dengan rata-rata lebih tinggi dibandingkan median. Ini mengindikasikan adanya beberapa \\nproduk \\ndengan harga sangat tinggi (outliers).\\n- Banyaknya Produk Terjual: Data penjualan juga memiliki distribusi yang tidak merata, dengan indikasi beberapa produk yang terjual jauh lebih banyak daripada rata-rata (\\nlong tail distribution).\\n- Rating Produk: Rating memiliki distribusi yang lebih stabil, dengan nilai rata-rata mendekati median, yang menunjukkan sebagian besar produk memiliki penilaian yang \\nserupa.\\n'"
      ]
     },
     "execution_count": 96,
     "metadata": {},
     "output_type": "execute_result"
    }
   ],
   "source": [
    "'''\n",
    "- Harga Produk: Data harga menunjukkan distribusi yang sedikit miring (skewed), dengan rata-rata lebih tinggi dibandingkan median. Ini mengindikasikan adanya beberapa \n",
    "produk \n",
    "dengan harga sangat tinggi (outliers).\n",
    "- Banyaknya Produk Terjual: Data penjualan juga memiliki distribusi yang tidak merata, dengan indikasi beberapa produk yang terjual jauh lebih banyak daripada rata-rata (\n",
    "long tail distribution).\n",
    "- Rating Produk: Rating memiliki distribusi yang lebih stabil, dengan nilai rata-rata mendekati median, yang menunjukkan sebagian besar produk memiliki penilaian yang \n",
    "serupa.\n",
    "'''"
   ]
  },
  {
   "cell_type": "markdown",
   "metadata": {},
   "source": [
    "#### 2. Estimasi Potensi Pendapatan\n",
    "\n",
    "Menghitung pendapatan potensial dari produk seblak menggunakan confidence interval 95%. Dengan interval kepercayaan 95%, bisa mendapatkan estimasi pendapatan minimum dan maksimum berdasarkan distribusi data."
   ]
  },
  {
   "cell_type": "code",
   "execution_count": 97,
   "metadata": {},
   "outputs": [
    {
     "name": "stdout",
     "output_type": "stream",
     "text": [
      "Pendapatan Min-Max (95% CI): 1008824.49 - 2523645.23\n"
     ]
    }
   ],
   "source": [
    "# Hitung pendapatan\n",
    "data['Pendapatan'] = data['Harga Produk'] * data['Banyaknya Terjual']\n",
    "\n",
    "# Mean dan std pendapatan\n",
    "mean_income = data['Pendapatan'].mean()\n",
    "std_income = data['Pendapatan'].std()\n",
    "\n",
    "# Confidence interval 95%\n",
    "z = norm.ppf(0.975)\n",
    "lower_bound = mean_income - z * (std_income / np.sqrt(len(data)))\n",
    "upper_bound = mean_income + z * (std_income / np.sqrt(len(data)))\n",
    "\n",
    "print(f\"Pendapatan Min-Max (95% CI): {lower_bound:.2f} - {upper_bound:.2f}\")"
   ]
  },
  {
   "cell_type": "code",
   "execution_count": 98,
   "metadata": {},
   "outputs": [
    {
     "data": {
      "text/plain": [
       "'\\nDengan menggunakan confidence interval 95%, estimasi pendapatan bulanan dari produk seblak berada pada rentang: Rp 1.008.824,49 hingga Rp 2.523.645,23.\\n'"
      ]
     },
     "execution_count": 98,
     "metadata": {},
     "output_type": "execute_result"
    }
   ],
   "source": [
    "'''\n",
    "Dengan menggunakan confidence interval 95%, estimasi pendapatan bulanan dari produk seblak berada pada rentang: Rp 1.008.824,49 hingga Rp 2.523.645,23.\n",
    "'''"
   ]
  },
  {
   "cell_type": "markdown",
   "metadata": {},
   "source": [
    "#### 3. Perbedaan Harga antara Jabodetabek dan Luar Jabodetabek"
   ]
  },
  {
   "cell_type": "code",
   "execution_count": 99,
   "metadata": {},
   "outputs": [
    {
     "name": "stdout",
     "output_type": "stream",
     "text": [
      "Statistik t: -0.22, P-value: 0.8228\n",
      "Hasil: Tidak terdapat perbedaan signifikan pada harga antara Jabodetabek dan luar Jabodetabek.\n"
     ]
    }
   ],
   "source": [
    "# Memisahkan data untuk Jabodetabek dan luar Jabodetabek\n",
    "jabodetabek = data[data['Kota Toko'].str.contains('Jakarta|Bogor|Depok|Tangerang|Bekasi', na=False)]['Harga Produk']\n",
    "non_jabodetabek = data[~data['Kota Toko'].str.contains('Jakarta|Bogor|Depok|Tangerang|Bekasi', na=False)]['Harga Produk'] \n",
    "# simbol ~ untuk membalikkan logika, sehingga memilih kota yang tidak termasuk dalam Jabodetabek.\n",
    "\n",
    "# Melakukan uji t-test untuk membandingkan rata-rata harga\n",
    "t_stat, p_value = ttest_ind(jabodetabek, non_jabodetabek, equal_var=False)\n",
    "\n",
    "# Tampilkan hasil uji t-test\n",
    "print(f\"Statistik t: {t_stat:.2f}, P-value: {p_value:.4f}\")\n",
    "if p_value < 0.05:\n",
    "    print(\"Hasil: Terdapat perbedaan signifikan pada harga antara Jabodetabek dan luar Jabodetabek.\")\n",
    "else:\n",
    "    print(\"Hasil: Tidak terdapat perbedaan signifikan pada harga antara Jabodetabek dan luar Jabodetabek.\")\n"
   ]
  },
  {
   "cell_type": "code",
   "execution_count": 100,
   "metadata": {},
   "outputs": [
    {
     "data": {
      "text/plain": [
       "'\\nTidak ada perbedaan harga yang signifikan antara produk yang dijual di Jabodetabek dan luar Jabodetabek (p-value > 0.05). Meskipun biaya bahan baku mungkin berbeda, \\nharga jual di kedua wilayah relatif sama. Hal ini bisa disebabkan oleh persaingan harga atau kebijakan harga yang seragam oleh penjual\\n'"
      ]
     },
     "execution_count": 100,
     "metadata": {},
     "output_type": "execute_result"
    }
   ],
   "source": [
    "'''\n",
    "Tidak ada perbedaan harga yang signifikan antara produk yang dijual di Jabodetabek dan luar Jabodetabek (p-value > 0.05). Meskipun biaya bahan baku mungkin berbeda, \n",
    "harga jual di kedua wilayah relatif sama. Hal ini bisa disebabkan oleh persaingan harga atau kebijakan harga yang seragam oleh penjual\n",
    "'''"
   ]
  },
  {
   "cell_type": "markdown",
   "metadata": {},
   "source": [
    "#### 4. Hubungan antara Harga dan Preferensi Pelanggan (Rating)"
   ]
  },
  {
   "cell_type": "code",
   "execution_count": 101,
   "metadata": {},
   "outputs": [
    {
     "name": "stdout",
     "output_type": "stream",
     "text": [
      "Spearman Correlation: nan, P-value: nan\n"
     ]
    }
   ],
   "source": [
    "# Korelasi antara jumlah terjual dan rating\n",
    "correlation, p_value = spearmanr(data['Banyaknya Terjual'], data['Rating Produk'])\n",
    "print(f\"Spearman Correlation: {correlation}, P-value: {p_value}\")"
   ]
  },
  {
   "cell_type": "code",
   "execution_count": 102,
   "metadata": {},
   "outputs": [
    {
     "data": {
      "text/plain": [
       "'\\nKorelasi antara harga dan rating produk sangat lemah dan tidak signifikan (r ≈ 0, p-value > 0.05).\\n'"
      ]
     },
     "execution_count": 102,
     "metadata": {},
     "output_type": "execute_result"
    }
   ],
   "source": [
    "'''\n",
    "Korelasi antara harga dan rating produk sangat lemah dan tidak signifikan (r ≈ 0, p-value > 0.05).\n",
    "'''"
   ]
  },
  {
   "cell_type": "markdown",
   "metadata": {},
   "source": [
    "### **E. Conclusion (Kesimpulan)**"
   ]
  },
  {
   "cell_type": "markdown",
   "metadata": {},
   "source": [
    "**Produk Paling Laris:**\n",
    "\n",
    "Produk dengan jumlah terjual tertinggi adalah \"SEBLAK INSTAN MANG MUSS - LEVEL 10\" dengan harga yang lebih terjangkau, menunjukkan bahwa konsumen cenderung memilih produk dengan harga yang terjangkau."
   ]
  },
  {
   "cell_type": "markdown",
   "metadata": {},
   "source": [
    "**Variasi Produk:**\n",
    "\n",
    "Sebagian besar produk memiliki penjualan di bawah rata-rata, namun ada beberapa produk dengan penjualan sangat tinggi, menunjukkan pola distribusi \"long tail\" di pasar."
   ]
  },
  {
   "cell_type": "markdown",
   "metadata": {},
   "source": [
    "**Harga Kompetitif:**\n",
    "\n",
    "Harga rata-rata produk seblak cenderung berada di kisaran Rp20.000–Rp50.000, yang bisa menjadi kisaran harga kompetitif untuk menarik konsumen."
   ]
  },
  {
   "cell_type": "markdown",
   "metadata": {},
   "source": [
    "**Hubungan Rating dan Penjualan:**\n",
    "\n",
    "Tidak ada hubungan antara Rating dan Penjualan"
   ]
  },
  {
   "cell_type": "markdown",
   "metadata": {},
   "source": [
    "**Pendapatan Potensial:**\n",
    "\n",
    "Dengan confidence interval 95%, diperkirakan Pendapatan Potensial dari produk seblak akan berada dalam rentang Rp 1.008.824,49 hingga Rp 2.523.645,23."
   ]
  }
 ],
 "metadata": {
  "kernelspec": {
   "display_name": "base",
   "language": "python",
   "name": "python3"
  },
  "language_info": {
   "codemirror_mode": {
    "name": "ipython",
    "version": 3
   },
   "file_extension": ".py",
   "mimetype": "text/x-python",
   "name": "python",
   "nbconvert_exporter": "python",
   "pygments_lexer": "ipython3",
   "version": "3.9.20"
  }
 },
 "nbformat": 4,
 "nbformat_minor": 2
}
